{
 "cells": [
  {
   "cell_type": "markdown",
   "id": "0a2ee674",
   "metadata": {},
   "source": [
    "## Named Entity Recognition (NER) in Natural Language Processing (NLP) is the task of identifying and classifying named entities in text into predefined categories like:\n",
    "\n",
    "Person names (Barack Obama)\n",
    "\n",
    "Organizations (Google, UN)\n",
    "\n",
    "Locations (New York, India)\n",
    "\n",
    "Dates, Times, Monetary values, etc."
   ]
  },
  {
   "cell_type": "code",
   "execution_count": 40,
   "id": "f96dc79a",
   "metadata": {},
   "outputs": [],
   "source": [
    "## Named Entity Recognition"
   ]
  },
  {
   "cell_type": "code",
   "execution_count": null,
   "id": "8393d197",
   "metadata": {},
   "outputs": [],
   "source": []
  },
  {
   "cell_type": "code",
   "execution_count": 41,
   "id": "0abb7c5b",
   "metadata": {},
   "outputs": [],
   "source": [
    "sentence = paragraph = \" The  Indian cricket team won the World Cup in 1983. Kapil Dev was the captain of the team. The final match was played at Lord's Stadium in London against the West Indies. The match was a historic moment for Indian cricket.\""
   ]
  },
  {
   "cell_type": "code",
   "execution_count": 42,
   "id": "1f3a6b85",
   "metadata": {},
   "outputs": [],
   "source": [
    "import nltk\n",
    "words = nltk.word_tokenize(sentence)"
   ]
  },
  {
   "cell_type": "code",
   "execution_count": 43,
   "id": "2cb85dab",
   "metadata": {},
   "outputs": [],
   "source": [
    "tag_elements = nltk.pos_tag(words)"
   ]
  },
  {
   "cell_type": "code",
   "execution_count": 47,
   "id": "5eb8b4d6",
   "metadata": {},
   "outputs": [
    {
     "name": "stderr",
     "output_type": "stream",
     "text": [
      "[nltk_data] Downloading package maxent_ne_chunker_tab to\n",
      "[nltk_data]     C:\\Users\\rahul\\AppData\\Roaming\\nltk_data...\n",
      "[nltk_data]   Package maxent_ne_chunker_tab is already up-to-date!\n",
      "[nltk_data] Downloading package words to\n",
      "[nltk_data]     C:\\Users\\rahul\\AppData\\Roaming\\nltk_data...\n",
      "[nltk_data]   Package words is already up-to-date!\n"
     ]
    },
    {
     "data": {
      "text/plain": [
       "True"
      ]
     },
     "execution_count": 47,
     "metadata": {},
     "output_type": "execute_result"
    }
   ],
   "source": [
    "nltk.download('maxent_ne_chunker_tab')# maximum entropy chunker\n",
    "nltk.download('words')\n",
    "# pretrained model for NER"
   ]
  },
  {
   "cell_type": "code",
   "execution_count": null,
   "id": "02647121",
   "metadata": {},
   "outputs": [],
   "source": []
  },
  {
   "cell_type": "code",
   "execution_count": null,
   "id": "6a55f188",
   "metadata": {},
   "outputs": [],
   "source": [
    "nltk.ne_chunk(tag_elements).draw()\n",
    "# .draw() opens a window to visualize the named entities in the text."
   ]
  },
  {
   "cell_type": "code",
   "execution_count": null,
   "id": "c0ab972b",
   "metadata": {},
   "outputs": [],
   "source": []
  },
  {
   "cell_type": "code",
   "execution_count": null,
   "id": "8c5fcfaf",
   "metadata": {},
   "outputs": [],
   "source": []
  },
  {
   "cell_type": "code",
   "execution_count": null,
   "id": "b247b00f",
   "metadata": {},
   "outputs": [],
   "source": []
  },
  {
   "cell_type": "code",
   "execution_count": null,
   "id": "0f193c12",
   "metadata": {},
   "outputs": [],
   "source": []
  },
  {
   "cell_type": "code",
   "execution_count": null,
   "id": "ef5ba2c7",
   "metadata": {},
   "outputs": [],
   "source": []
  }
 ],
 "metadata": {
  "kernelspec": {
   "display_name": "Python 3",
   "language": "python",
   "name": "python3"
  },
  "language_info": {
   "codemirror_mode": {
    "name": "ipython",
    "version": 3
   },
   "file_extension": ".py",
   "mimetype": "text/x-python",
   "name": "python",
   "nbconvert_exporter": "python",
   "pygments_lexer": "ipython3",
   "version": "3.11.9"
  }
 },
 "nbformat": 4,
 "nbformat_minor": 5
}
