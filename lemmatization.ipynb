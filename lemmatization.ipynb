{
 "cells": [
  {
   "cell_type": "code",
   "execution_count": null,
   "id": "0ccb1dce",
   "metadata": {},
   "outputs": [],
   "source": []
  },
  {
   "cell_type": "code",
   "execution_count": 1,
   "id": "705f9241",
   "metadata": {},
   "outputs": [],
   "source": [
    "import nltk"
   ]
  },
  {
   "cell_type": "markdown",
   "id": "9b0a3566",
   "metadata": {},
   "source": [
    "## 3- Lemmatization\n",
    "NLTK provides WordNetLemmatizer class which is a thin wrapper around the wordnet corpus. This class uses morphy functions()to  the WordNet CorpupsReader class to find a lemma\n",
    "\n",
    "## It usually takes much more time as it compare the word from its function()\n",
    "--\n",
    "## USE CASE: Q&A, Chatbots, text, summarization"
   ]
  },
  {
   "cell_type": "code",
   "execution_count": null,
   "id": "44614d97",
   "metadata": {},
   "outputs": [],
   "source": [
    "# similar to stemming. The o/p we get after lemmatization is called 'lemma'.\n",
    "# we get a valid word after lemmatization"
   ]
  },
  {
   "cell_type": "code",
   "execution_count": 2,
   "id": "c43aee5b",
   "metadata": {},
   "outputs": [],
   "source": [
    "from nltk.stem import WordNetLemmatizer"
   ]
  },
  {
   "cell_type": "code",
   "execution_count": 5,
   "id": "ea8d4b3b",
   "metadata": {},
   "outputs": [],
   "source": [
    "lemmatizer = WordNetLemmatizer()\n"
   ]
  },
  {
   "cell_type": "code",
   "execution_count": 13,
   "id": "ddb54570",
   "metadata": {},
   "outputs": [
    {
     "data": {
      "text/plain": [
       "'go'"
      ]
     },
     "execution_count": 13,
     "metadata": {},
     "output_type": "execute_result"
    }
   ],
   "source": [
    "lemmatizer.lemmatize('going',pos='v')"
   ]
  },
  {
   "cell_type": "code",
   "execution_count": 25,
   "id": "eb71fc94",
   "metadata": {},
   "outputs": [],
   "source": [
    "words = ['eating', 'fairly','eats', 'eaten', 'writing', 'historically','writes', 'finalized', 'programming', 'programs', 'swimming', 'congratulations']"
   ]
  },
  {
   "cell_type": "code",
   "execution_count": 26,
   "id": "c3731dd4",
   "metadata": {},
   "outputs": [
    {
     "name": "stdout",
     "output_type": "stream",
     "text": [
      "eating--->eat\n",
      "fairly--->fairly\n",
      "eats--->eat\n",
      "eaten--->eat\n",
      "writing--->write\n",
      "historically--->historically\n",
      "writes--->write\n",
      "finalized--->finalize\n",
      "programming--->program\n",
      "programs--->program\n",
      "swimming--->swim\n",
      "congratulations--->congratulations\n"
     ]
    }
   ],
   "source": [
    "for word in words:\n",
    "    print(word+\"--->\"+lemmatizer.lemmatize(word,pos='v'))"
   ]
  },
  {
   "cell_type": "code",
   "execution_count": null,
   "id": "efc43f98",
   "metadata": {},
   "outputs": [],
   "source": []
  }
 ],
 "metadata": {
  "kernelspec": {
   "display_name": "Python 3",
   "language": "python",
   "name": "python3"
  },
  "language_info": {
   "codemirror_mode": {
    "name": "ipython",
    "version": 3
   },
   "file_extension": ".py",
   "mimetype": "text/x-python",
   "name": "python",
   "nbconvert_exporter": "python",
   "pygments_lexer": "ipython3",
   "version": "3.11.9"
  }
 },
 "nbformat": 4,
 "nbformat_minor": 5
}
