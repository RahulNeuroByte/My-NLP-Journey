{
 "cells": [
  {
   "cell_type": "code",
   "execution_count": null,
   "id": "7ee5c66f",
   "metadata": {},
   "outputs": [],
   "source": []
  },
  {
   "cell_type": "code",
   "execution_count": 124,
   "id": "1cf48a16",
   "metadata": {},
   "outputs": [],
   "source": [
    "\n",
    "paragraph = \"\"\"I am proud to call India my home country, renowned as the world's seventh-largest and second-most populated nation.\n",
    "Several names, such as Bharat, Hindustan, and Aryavart also recognise it. Geographically, it is a peninsula enveloped by the Bay\n",
    "of Bengal in the east, the Arabian Sea in the west, and the Indian Ocean in the south. The tiger is our national animal, while \n",
    "the peacock, lotus, and mango represent our national bird, flower, and fruit. India's flag consists of three colours: saffron\n",
    "means purity (at the top), white means peace (at the bottom, there is an Ashok Chakra), and green means fertility.  Many languages are spoken in India,\n",
    "and people of different castes, creeds, religions, and cultures live together. Because of this, India is known for its spirituality, philosophy, science, \n",
    "technology, and common saying of “unity in diversity It uses its food grains and fruits. It is a famous tourist paradise because it attracts people from \n",
    "all over the world. Some monuments, tombs, churches, historical buildings, temples, museums, scenic beauty, wildlife sanctuaries, architecture sites, \n",
    "etc., contribute to its revenue. It is a place where the Taj Mahal, Fatehpur Sikri, Golden Temple, Qutab Minar, Red Fort, Ooty, Nilgiris, Kashmir, \n",
    "Khajuraho, Ajanta and Ellora caves, etc., are located. The country has many rivers, mountains, valleys, lakes, and oceans. The national language is \n",
    "Hindi. There are 29 states and UTs, and 28 have small villages. Sugarcane, cotton, jute, rice, wheat, cereals, and other crops are grown in this country. \n",
    "This is a country where great leaders (Shivaji, Gandhiji, Nehru, Ambedkar, etc.) were born, as well as great scientists (Dr Jagadeeshchandra Bose, Dr \n",
    "Homi Bhabha, Dr C. V Raman, Dr Naralikar, etc.) and reformers (Mother Teresa, Pandurangashastri Alhavale, and T. N. Sheshan). There is a sense of unity \n",
    "and peace in this country.                                        \n",
    "\n",
    "\"\"\""
   ]
  },
  {
   "cell_type": "code",
   "execution_count": 108,
   "id": "1ef9e21b",
   "metadata": {},
   "outputs": [],
   "source": [
    "from nltk.stem import PorterStemmer"
   ]
  },
  {
   "cell_type": "code",
   "execution_count": 109,
   "id": "b031c51f",
   "metadata": {},
   "outputs": [],
   "source": [
    "from nltk.corpus import stopwords"
   ]
  },
  {
   "cell_type": "code",
   "execution_count": 110,
   "id": "43d400a1",
   "metadata": {},
   "outputs": [
    {
     "name": "stderr",
     "output_type": "stream",
     "text": [
      "[nltk_data] Downloading package stopwords to\n",
      "[nltk_data]     C:\\Users\\rahul\\AppData\\Roaming\\nltk_data...\n",
      "[nltk_data]   Package stopwords is already up-to-date!\n"
     ]
    },
    {
     "data": {
      "text/plain": [
       "True"
      ]
     },
     "execution_count": 110,
     "metadata": {},
     "output_type": "execute_result"
    }
   ],
   "source": [
    "import nltk\n",
    "nltk.download('stopwords')"
   ]
  },
  {
   "cell_type": "code",
   "execution_count": 111,
   "id": "d73593e6",
   "metadata": {},
   "outputs": [
    {
     "data": {
      "text/plain": [
       "['a',\n",
       " 'about',\n",
       " 'above',\n",
       " 'after',\n",
       " 'again',\n",
       " 'against',\n",
       " 'ain',\n",
       " 'all',\n",
       " 'am',\n",
       " 'an',\n",
       " 'and',\n",
       " 'any',\n",
       " 'are',\n",
       " 'aren',\n",
       " \"aren't\",\n",
       " 'as',\n",
       " 'at',\n",
       " 'be',\n",
       " 'because',\n",
       " 'been',\n",
       " 'before',\n",
       " 'being',\n",
       " 'below',\n",
       " 'between',\n",
       " 'both',\n",
       " 'but',\n",
       " 'by',\n",
       " 'can',\n",
       " 'couldn',\n",
       " \"couldn't\",\n",
       " 'd',\n",
       " 'did',\n",
       " 'didn',\n",
       " \"didn't\",\n",
       " 'do',\n",
       " 'does',\n",
       " 'doesn',\n",
       " \"doesn't\",\n",
       " 'doing',\n",
       " 'don',\n",
       " \"don't\",\n",
       " 'down',\n",
       " 'during',\n",
       " 'each',\n",
       " 'few',\n",
       " 'for',\n",
       " 'from',\n",
       " 'further',\n",
       " 'had',\n",
       " 'hadn',\n",
       " \"hadn't\",\n",
       " 'has',\n",
       " 'hasn',\n",
       " \"hasn't\",\n",
       " 'have',\n",
       " 'haven',\n",
       " \"haven't\",\n",
       " 'having',\n",
       " 'he',\n",
       " \"he'd\",\n",
       " \"he'll\",\n",
       " 'her',\n",
       " 'here',\n",
       " 'hers',\n",
       " 'herself',\n",
       " \"he's\",\n",
       " 'him',\n",
       " 'himself',\n",
       " 'his',\n",
       " 'how',\n",
       " 'i',\n",
       " \"i'd\",\n",
       " 'if',\n",
       " \"i'll\",\n",
       " \"i'm\",\n",
       " 'in',\n",
       " 'into',\n",
       " 'is',\n",
       " 'isn',\n",
       " \"isn't\",\n",
       " 'it',\n",
       " \"it'd\",\n",
       " \"it'll\",\n",
       " \"it's\",\n",
       " 'its',\n",
       " 'itself',\n",
       " \"i've\",\n",
       " 'just',\n",
       " 'll',\n",
       " 'm',\n",
       " 'ma',\n",
       " 'me',\n",
       " 'mightn',\n",
       " \"mightn't\",\n",
       " 'more',\n",
       " 'most',\n",
       " 'mustn',\n",
       " \"mustn't\",\n",
       " 'my',\n",
       " 'myself',\n",
       " 'needn',\n",
       " \"needn't\",\n",
       " 'no',\n",
       " 'nor',\n",
       " 'not',\n",
       " 'now',\n",
       " 'o',\n",
       " 'of',\n",
       " 'off',\n",
       " 'on',\n",
       " 'once',\n",
       " 'only',\n",
       " 'or',\n",
       " 'other',\n",
       " 'our',\n",
       " 'ours',\n",
       " 'ourselves',\n",
       " 'out',\n",
       " 'over',\n",
       " 'own',\n",
       " 're',\n",
       " 's',\n",
       " 'same',\n",
       " 'shan',\n",
       " \"shan't\",\n",
       " 'she',\n",
       " \"she'd\",\n",
       " \"she'll\",\n",
       " \"she's\",\n",
       " 'should',\n",
       " 'shouldn',\n",
       " \"shouldn't\",\n",
       " \"should've\",\n",
       " 'so',\n",
       " 'some',\n",
       " 'such',\n",
       " 't',\n",
       " 'than',\n",
       " 'that',\n",
       " \"that'll\",\n",
       " 'the',\n",
       " 'their',\n",
       " 'theirs',\n",
       " 'them',\n",
       " 'themselves',\n",
       " 'then',\n",
       " 'there',\n",
       " 'these',\n",
       " 'they',\n",
       " \"they'd\",\n",
       " \"they'll\",\n",
       " \"they're\",\n",
       " \"they've\",\n",
       " 'this',\n",
       " 'those',\n",
       " 'through',\n",
       " 'to',\n",
       " 'too',\n",
       " 'under',\n",
       " 'until',\n",
       " 'up',\n",
       " 've',\n",
       " 'very',\n",
       " 'was',\n",
       " 'wasn',\n",
       " \"wasn't\",\n",
       " 'we',\n",
       " \"we'd\",\n",
       " \"we'll\",\n",
       " \"we're\",\n",
       " 'were',\n",
       " 'weren',\n",
       " \"weren't\",\n",
       " \"we've\",\n",
       " 'what',\n",
       " 'when',\n",
       " 'where',\n",
       " 'which',\n",
       " 'while',\n",
       " 'who',\n",
       " 'whom',\n",
       " 'why',\n",
       " 'will',\n",
       " 'with',\n",
       " 'won',\n",
       " \"won't\",\n",
       " 'wouldn',\n",
       " \"wouldn't\",\n",
       " 'y',\n",
       " 'you',\n",
       " \"you'd\",\n",
       " \"you'll\",\n",
       " 'your',\n",
       " \"you're\",\n",
       " 'yours',\n",
       " 'yourself',\n",
       " 'yourselves',\n",
       " \"you've\"]"
      ]
     },
     "execution_count": 111,
     "metadata": {},
     "output_type": "execute_result"
    }
   ],
   "source": [
    "# list of all the stopwords in English\n",
    "stopwords.words('english')"
   ]
  },
  {
   "cell_type": "code",
   "execution_count": 112,
   "id": "abd112ce",
   "metadata": {},
   "outputs": [],
   "source": [
    "from nltk.stem import PorterStemmer"
   ]
  },
  {
   "cell_type": "code",
   "execution_count": 113,
   "id": "ef1b88a7",
   "metadata": {},
   "outputs": [],
   "source": [
    "stemmer = PorterStemmer()\n"
   ]
  },
  {
   "cell_type": "code",
   "execution_count": 125,
   "id": "7e4ab156",
   "metadata": {},
   "outputs": [],
   "source": [
    "sentences = nltk.sent_tokenize(paragraph)"
   ]
  },
  {
   "cell_type": "code",
   "execution_count": 126,
   "id": "651c63f7",
   "metadata": {},
   "outputs": [
    {
     "data": {
      "text/plain": [
       "list"
      ]
     },
     "execution_count": 126,
     "metadata": {},
     "output_type": "execute_result"
    }
   ],
   "source": [
    "type(sentences)"
   ]
  },
  {
   "cell_type": "code",
   "execution_count": 116,
   "id": "b69c2bc8",
   "metadata": {},
   "outputs": [],
   "source": [
    "##apply stopwords and apply filter and then apply stemming\n",
    "\n",
    "for i in range(len(sentences)):\n",
    "    words = nltk.word_tokenize(sentences[i])\n",
    "    #list comprehension\n",
    "    words = [stemmer.stem(word) for word in words if word not in set(stopwords.words('english'))]\n",
    "    sentences[i] = ' '.join(words) # convert all list of words into senences"
   ]
  },
  {
   "cell_type": "code",
   "execution_count": 117,
   "id": "13437129",
   "metadata": {},
   "outputs": [
    {
     "data": {
      "text/plain": [
       "[\"i proud call india home countri , renown world 's seventh-largest second-most popul nation .\",\n",
       " 'sever name , bharat , hindustan , aryavart also recognis .',\n",
       " 'geograph , peninsula envelop bay bengal east , arabian sea west , indian ocean south .',\n",
       " 'the tiger nation anim , peacock , lotu , mango repres nation bird , flower , fruit .',\n",
       " \"india 's flag consist three colour : saffron mean puriti ( top ) , white mean peac ( bottom , ashok chakra ) , green mean fertil .\",\n",
       " 'mani languag spoken india , peopl differ cast , creed , religion , cultur live togeth .',\n",
       " 'becaus , india known spiritu , philosophi , scienc , technolog , common say “ uniti divers it use food grain fruit .',\n",
       " 'it famou tourist paradis attract peopl world .',\n",
       " 'some monument , tomb , church , histor build , templ , museum , scenic beauti , wildlif sanctuari , architectur site , etc. , contribut revenu .',\n",
       " 'it place taj mahal , fatehpur sikri , golden templ , qutab minar , red fort , ooti , nilgiri , kashmir , khajuraho , ajanta ellora cave , etc. , locat .',\n",
       " 'the countri mani river , mountain , valley , lake , ocean .',\n",
       " 'the nation languag hindi .',\n",
       " 'there 29 state ut , 28 small villag .',\n",
       " 'sugarcan , cotton , jute , rice , wheat , cereal , crop grown countri .',\n",
       " 'thi countri great leader ( shivaji , gandhiji , nehru , ambedkar , etc . )',\n",
       " 'born , well great scientist ( dr jagadeeshchandra bose , dr homi bhabha , dr c. v raman , dr naralikar , etc . )',\n",
       " 'reform ( mother teresa , pandurangashastri alhaval , t. n. sheshan ) .',\n",
       " 'there sens uniti peac countri .']"
      ]
     },
     "execution_count": 117,
     "metadata": {},
     "output_type": "execute_result"
    }
   ],
   "source": [
    "sentences"
   ]
  },
  {
   "cell_type": "code",
   "execution_count": 118,
   "id": "f8bd408c",
   "metadata": {},
   "outputs": [],
   "source": [
    "## Doing same things with SnowballStemmer\n",
    "\n",
    "from nltk.stem import SnowballStemmer\n",
    "snowballstemmer = SnowballStemmer('english')"
   ]
  },
  {
   "cell_type": "code",
   "execution_count": 119,
   "id": "3907ea91",
   "metadata": {},
   "outputs": [],
   "source": [
    "##apply stopwords and apply filter and then apply snowball stemming\n",
    "\n",
    "for i in range(len(sentences)):\n",
    "    words = nltk.word_tokenize(sentences[i])\n",
    "    words = [snowballstemmer.stem(word) for word in words if word not in set(stopwords.words('english'))]\n",
    "    sentences[i] = ' '.join(words) # Converting all the list of words into sentences"
   ]
  },
  {
   "cell_type": "code",
   "execution_count": 120,
   "id": "61c398a9",
   "metadata": {},
   "outputs": [
    {
     "data": {
      "text/plain": [
       "[\"proud call india home countri , renown world 's seventh-largest second-most popul nation .\",\n",
       " 'sever name , bharat , hindustan , aryavart also recogni .',\n",
       " 'geograph , peninsula envelop bay bengal east , arabian sea west , indian ocean south .',\n",
       " 'tiger nation anim , peacock , lotu , mango repr nation bird , flower , fruit .',\n",
       " \"india 's flag consist three colour : saffron mean puriti ( top ) , white mean peac ( bottom , ashok chakra ) , green mean fertil .\",\n",
       " 'mani languag spoken india , peopl differ cast , creed , religion , cultur live togeth .',\n",
       " 'becaus , india known spiritu , philosophi , scienc , technolog , common say “ uniti diver use food grain fruit .',\n",
       " 'famou tourist paradi attract peopl world .',\n",
       " 'monument , tomb , church , histor build , templ , museum , scenic beauti , wildlif sanctuari , architectur site , etc . , contribut revenu .',\n",
       " 'place taj mahal , fatehpur sikri , golden templ , qutab minar , red fort , ooti , nilgiri , kashmir , khajuraho , ajanta ellora cave , etc . , locat .',\n",
       " 'countri mani river , mountain , valley , lake , ocean .',\n",
       " 'nation languag hindi .',\n",
       " '29 state ut , 28 small villag .',\n",
       " 'sugarcan , cotton , jute , rice , wheat , cereal , crop grown countri .',\n",
       " 'thi countri great leader ( shivaji , gandhiji , nehru , ambedkar , etc . )',\n",
       " 'born , well great scientist ( dr jagadeeshchandra bose , dr homi bhabha , dr c. v raman , dr naralikar , etc . )',\n",
       " 'reform ( mother teresa , pandurangashastri alhav , t. n. sheshan ) .',\n",
       " 'sen uniti peac countri .']"
      ]
     },
     "execution_count": 120,
     "metadata": {},
     "output_type": "execute_result"
    }
   ],
   "source": [
    "sentences"
   ]
  },
  {
   "cell_type": "code",
   "execution_count": null,
   "id": "79ebfb79",
   "metadata": {},
   "outputs": [],
   "source": []
  },
  {
   "cell_type": "markdown",
   "id": "a3f3f82f",
   "metadata": {},
   "source": [
    "## Performing lemmatization"
   ]
  },
  {
   "cell_type": "code",
   "execution_count": 121,
   "id": "ab28f2f3",
   "metadata": {},
   "outputs": [],
   "source": [
    "from nltk.stem import WordNetLemmatizer\n",
    "lemmatizer = WordNetLemmatizer()"
   ]
  },
  {
   "cell_type": "code",
   "execution_count": 131,
   "id": "76ee0645",
   "metadata": {},
   "outputs": [],
   "source": [
    "##apply stopwords and apply filter and then apply lemmatization\n",
    "\n",
    "for i in range(len(sentences)):\n",
    "    words = nltk.word_tokenize(sentences[i])\n",
    "    words = [lemmatizer.lemmatize(word.lower(),pos='v') for word in words if word not in set(stopwords.words('english'))]\n",
    "    sentences[i] = ' '.join(words)"
   ]
  },
  {
   "cell_type": "code",
   "execution_count": 132,
   "id": "39d3e402",
   "metadata": {},
   "outputs": [
    {
     "data": {
      "text/plain": [
       "[\"i proud call india home country , renowned world 's seventh-largest second-most populate nation .\",\n",
       " 'several name , bharat , hindustan , aryavart also recognise .',\n",
       " 'geographically , peninsula envelop bay bengal east , arabian sea west , indian ocean south .',\n",
       " 'the tiger national animal , peacock , lotus , mango represent national bird , flower , fruit .',\n",
       " \"india 's flag consist three colour : saffron mean purity ( top ) , white mean peace ( bottom , ashok chakra ) , green mean fertility .\",\n",
       " 'many languages speak india , people different cast , creeds , religions , culture live together .',\n",
       " 'because , india know spirituality , philosophy , science , technology , common say “ unity diversity it use food grain fruit .',\n",
       " 'it famous tourist paradise attract people world .',\n",
       " 'some monuments , tombs , church , historical buildings , temples , museums , scenic beauty , wildlife sanctuaries , architecture sit , etc . , contribute revenue .',\n",
       " 'it place taj mahal , fatehpur sikri , golden temple , qutab minar , red fort , ooty , nilgiris , kashmir , khajuraho , ajanta ellora cave , etc . , locate .',\n",
       " 'the country many rivers , mountains , valleys , lakes , oceans .',\n",
       " 'the national language hindi .',\n",
       " 'there 29 state uts , 28 small villages .',\n",
       " 'sugarcane , cotton , jute , rice , wheat , cereals , crop grow country .',\n",
       " 'this country great leaders ( shivaji , gandhiji , nehru , ambedkar , etc . )',\n",
       " 'bear , well great scientists ( dr jagadeeshchandra bose , dr homi bhabha , dr c. v raman , dr naralikar , etc . )',\n",
       " 'reformers ( mother teresa , pandurangashastri alhavale , t. n. sheshan ) .',\n",
       " 'there sense unity peace country .']"
      ]
     },
     "execution_count": 132,
     "metadata": {},
     "output_type": "execute_result"
    }
   ],
   "source": [
    "sentences"
   ]
  },
  {
   "cell_type": "code",
   "execution_count": null,
   "id": "26fadef3",
   "metadata": {},
   "outputs": [],
   "source": []
  },
  {
   "cell_type": "code",
   "execution_count": null,
   "id": "e9ae1e3c",
   "metadata": {},
   "outputs": [],
   "source": []
  },
  {
   "cell_type": "code",
   "execution_count": null,
   "id": "317c5868",
   "metadata": {},
   "outputs": [],
   "source": []
  },
  {
   "cell_type": "code",
   "execution_count": null,
   "id": "4e5153fe",
   "metadata": {},
   "outputs": [],
   "source": []
  },
  {
   "cell_type": "code",
   "execution_count": null,
   "id": "c0672994",
   "metadata": {},
   "outputs": [],
   "source": []
  },
  {
   "cell_type": "code",
   "execution_count": null,
   "id": "6b77de20",
   "metadata": {},
   "outputs": [],
   "source": []
  },
  {
   "cell_type": "code",
   "execution_count": null,
   "id": "5b4802ac",
   "metadata": {},
   "outputs": [],
   "source": []
  }
 ],
 "metadata": {
  "kernelspec": {
   "display_name": "Python 3",
   "language": "python",
   "name": "python3"
  },
  "language_info": {
   "codemirror_mode": {
    "name": "ipython",
    "version": 3
   },
   "file_extension": ".py",
   "mimetype": "text/x-python",
   "name": "python",
   "nbconvert_exporter": "python",
   "pygments_lexer": "ipython3",
   "version": "3.11.9"
  }
 },
 "nbformat": 4,
 "nbformat_minor": 5
}
