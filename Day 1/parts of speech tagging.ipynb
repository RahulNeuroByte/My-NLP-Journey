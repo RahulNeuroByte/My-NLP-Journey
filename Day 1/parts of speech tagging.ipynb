{
 "cells": [
  {
   "cell_type": "code",
   "execution_count": null,
   "id": "14d459c8",
   "metadata": {},
   "outputs": [],
   "source": []
  },
  {
   "cell_type": "code",
   "execution_count": 60,
   "id": "56b67f57",
   "metadata": {},
   "outputs": [],
   "source": [
    "\n",
    "paragraph = \"\"\"I am proud to call India my home country, renowned as the world's seventh-largest and second-most populated nation.\n",
    "Several names, such as Bharat, Hindustan, and Aryavart also recognise it. Geographically, it is a peninsula enveloped by the Bay\n",
    "of Bengal in the east, the Arabian Sea in the west, and the Indian Ocean in the south. The tiger is our national animal, while \n",
    "the peacock, lotus, and mango represent our national bird, flower, and fruit. India's flag consists of three colours: saffron\n",
    "means purity (at the top), white means peace (at the bottom, there is an Ashok Chakra), and green means fertility.  Many languages are spoken in India,\n",
    "and people of different castes, creeds, religions, and cultures live together. Because of this, India is known for its spirituality, philosophy, science, \n",
    "technology, and common saying of “unity in diversity It uses its food grains and fruits. It is a famous tourist paradise because it attracts people from \n",
    "all over the world. Some monuments, tombs, churches, historical buildings, temples, museums, scenic beauty, wildlife sanctuaries, architecture sites, \n",
    "etc., contribute to its revenue. It is a place where the Taj Mahal, Fatehpur Sikri, Golden Temple, Qutab Minar, Red Fort, Ooty, Nilgiris, Kashmir, \n",
    "Khajuraho, Ajanta and Ellora caves, etc., are located. The country has many rivers, mountains, valleys, lakes, and oceans. The national language is \n",
    "Hindi. There are 29 states and UTs, and 28 have small villages. Sugarcane, cotton, jute, rice, wheat, cereals, and other crops are grown in this country. \n",
    "This is a country where great leaders (Shivaji, Gandhiji, Nehru, Ambedkar, etc.) were born, as well as great scientists (Dr Jagadeeshchandra Bose, Dr \n",
    "Homi Bhabha, Dr C. V Raman, Dr Naralikar, etc.) and reformers (Mother Teresa, Pandurangashastri Alhavale, and T. N. Sheshan). There is a sense of unity \n",
    "and peace in this country.                                        \n",
    "\n",
    "\"\"\""
   ]
  },
  {
   "cell_type": "code",
   "execution_count": 62,
   "id": "5cb4cb28",
   "metadata": {},
   "outputs": [],
   "source": [
    "\n",
    "from nltk.corpus import stopwords\n",
    "sentences = nltk.sent_tokenize(paragraph)\n"
   ]
  },
  {
   "cell_type": "code",
   "execution_count": 63,
   "id": "0fc65df9",
   "metadata": {},
   "outputs": [
    {
     "data": {
      "text/plain": [
       "[\"I am proud to call India my home country, renowned as the world's seventh-largest and second-most populated nation.\",\n",
       " 'Several names, such as Bharat, Hindustan, and Aryavart also recognise it.',\n",
       " 'Geographically, it is a peninsula enveloped by the Bay\\nof Bengal in the east, the Arabian Sea in the west, and the Indian Ocean in the south.',\n",
       " 'The tiger is our national animal, while \\nthe peacock, lotus, and mango represent our national bird, flower, and fruit.',\n",
       " \"India's flag consists of three colours: saffron\\nmeans purity (at the top), white means peace (at the bottom, there is an Ashok Chakra), and green means fertility.\",\n",
       " 'Many languages are spoken in India,\\nand people of different castes, creeds, religions, and cultures live together.',\n",
       " 'Because of this, India is known for its spirituality, philosophy, science, \\ntechnology, and common saying of “unity in diversity It uses its food grains and fruits.',\n",
       " 'It is a famous tourist paradise because it attracts people from \\nall over the world.',\n",
       " 'Some monuments, tombs, churches, historical buildings, temples, museums, scenic beauty, wildlife sanctuaries, architecture sites, \\netc., contribute to its revenue.',\n",
       " 'It is a place where the Taj Mahal, Fatehpur Sikri, Golden Temple, Qutab Minar, Red Fort, Ooty, Nilgiris, Kashmir, \\nKhajuraho, Ajanta and Ellora caves, etc., are located.',\n",
       " 'The country has many rivers, mountains, valleys, lakes, and oceans.',\n",
       " 'The national language is \\nHindi.',\n",
       " 'There are 29 states and UTs, and 28 have small villages.',\n",
       " 'Sugarcane, cotton, jute, rice, wheat, cereals, and other crops are grown in this country.',\n",
       " 'This is a country where great leaders (Shivaji, Gandhiji, Nehru, Ambedkar, etc.)',\n",
       " 'were born, as well as great scientists (Dr Jagadeeshchandra Bose, Dr \\nHomi Bhabha, Dr C. V Raman, Dr Naralikar, etc.)',\n",
       " 'and reformers (Mother Teresa, Pandurangashastri Alhavale, and T. N. Sheshan).',\n",
       " 'There is a sense of unity \\nand peace in this country.']"
      ]
     },
     "execution_count": 63,
     "metadata": {},
     "output_type": "execute_result"
    }
   ],
   "source": [
    "sentences"
   ]
  },
  {
   "cell_type": "code",
   "execution_count": 64,
   "id": "96e331e2",
   "metadata": {},
   "outputs": [
    {
     "name": "stderr",
     "output_type": "stream",
     "text": [
      "[nltk_data] Downloading package punkt to\n",
      "[nltk_data]     C:\\Users\\rahul\\AppData\\Roaming\\nltk_data...\n",
      "[nltk_data]   Package punkt is already up-to-date!\n",
      "[nltk_data] Downloading package stopwords to\n",
      "[nltk_data]     C:\\Users\\rahul\\AppData\\Roaming\\nltk_data...\n",
      "[nltk_data]   Package stopwords is already up-to-date!\n",
      "[nltk_data] Downloading package averaged_perceptron_tagger to\n",
      "[nltk_data]     C:\\Users\\rahul\\AppData\\Roaming\\nltk_data...\n",
      "[nltk_data]   Package averaged_perceptron_tagger is already up-to-\n",
      "[nltk_data]       date!\n",
      "[nltk_data] Downloading package averaged_perceptron_tagger_eng to\n",
      "[nltk_data]     C:\\Users\\rahul\\AppData\\Roaming\\nltk_data...\n",
      "[nltk_data]   Package averaged_perceptron_tagger_eng is already up-to-\n",
      "[nltk_data]       date!\n"
     ]
    },
    {
     "data": {
      "text/plain": [
       "True"
      ]
     },
     "execution_count": 64,
     "metadata": {},
     "output_type": "execute_result"
    }
   ],
   "source": [
    "import nltk\n",
    "nltk.download('punkt')\n",
    "nltk.download('stopwords')\n",
    "nltk.download('averaged_perceptron_tagger')\n",
    "nltk.download('averaged_perceptron_tagger_eng')"
   ]
  },
  {
   "cell_type": "code",
   "execution_count": null,
   "id": "766fd1eb",
   "metadata": {},
   "outputs": [
    {
     "name": "stdout",
     "output_type": "stream",
     "text": [
      "[('I', 'PRP'), ('proud', 'VBP'), ('call', 'JJ'), ('India', 'NNP'), ('home', 'NN'), ('country', 'NN'), (',', ','), ('renowned', 'VBD'), ('world', 'NN'), (\"'s\", 'POS'), ('seventh-largest', 'JJ'), ('second-most', 'NN'), ('populated', 'JJ'), ('nation', 'NN'), ('.', '.')]\n",
      "[('Several', 'JJ'), ('names', 'NNS'), (',', ','), ('Bharat', 'NNP'), (',', ','), ('Hindustan', 'NNP'), (',', ','), ('Aryavart', 'NNP'), ('also', 'RB'), ('recognise', 'VBP'), ('.', '.')]\n",
      "[('Geographically', 'RB'), (',', ','), ('peninsula', 'NN'), ('enveloped', 'VBD'), ('Bay', 'NNP'), ('Bengal', 'NNP'), ('east', 'NN'), (',', ','), ('Arabian', 'NNP'), ('Sea', 'NNP'), ('west', 'JJS'), (',', ','), ('Indian', 'JJ'), ('Ocean', 'NNP'), ('south', 'NN'), ('.', '.')]\n",
      "[('The', 'DT'), ('tiger', 'NN'), ('national', 'JJ'), ('animal', 'NN'), (',', ','), ('peacock', 'NN'), (',', ','), ('lotus', 'NN'), (',', ','), ('mango', 'FW'), ('represent', 'VBP'), ('national', 'JJ'), ('bird', 'NN'), (',', ','), ('flower', 'NN'), (',', ','), ('fruit', 'NN'), ('.', '.')]\n",
      "[('India', 'NNP'), (\"'s\", 'POS'), ('flag', 'NN'), ('consists', 'VBZ'), ('three', 'CD'), ('colours', 'NNS'), (':', ':'), ('saffron', 'NN'), ('means', 'VBZ'), ('purity', 'NN'), ('(', '('), ('top', 'JJ'), (')', ')'), (',', ','), ('white', 'JJ'), ('means', 'NNS'), ('peace', 'NN'), ('(', '('), ('bottom', 'JJ'), (',', ','), ('Ashok', 'NNP'), ('Chakra', 'NNP'), (')', ')'), (',', ','), ('green', 'JJ'), ('means', 'VBZ'), ('fertility', 'NN'), ('.', '.')]\n",
      "[('Many', 'JJ'), ('languages', 'NNS'), ('spoken', 'VBP'), ('India', 'NNP'), (',', ','), ('people', 'NNS'), ('different', 'JJ'), ('castes', 'NNS'), (',', ','), ('creeds', 'NNS'), (',', ','), ('religions', 'NNS'), (',', ','), ('cultures', 'NNS'), ('live', 'VBP'), ('together', 'RB'), ('.', '.')]\n",
      "[('Because', 'IN'), (',', ','), ('India', 'NNP'), ('known', 'VBN'), ('spirituality', 'NN'), (',', ','), ('philosophy', 'NN'), (',', ','), ('science', 'NN'), (',', ','), ('technology', 'NN'), (',', ','), ('common', 'JJ'), ('saying', 'VBG'), ('“', 'JJ'), ('unity', 'NN'), ('diversity', 'NN'), ('It', 'PRP'), ('uses', 'VBZ'), ('food', 'NN'), ('grains', 'NNS'), ('fruits', 'NNS'), ('.', '.')]\n",
      "[('It', 'PRP'), ('famous', 'JJ'), ('tourist', 'NN'), ('paradise', 'NN'), ('attracts', 'VBZ'), ('people', 'NNS'), ('world', 'NN'), ('.', '.')]\n",
      "[('Some', 'DT'), ('monuments', 'NNS'), (',', ','), ('tombs', 'NNS'), (',', ','), ('churches', 'NNS'), (',', ','), ('historical', 'JJ'), ('buildings', 'NNS'), (',', ','), ('temples', 'NNS'), (',', ','), ('museums', 'NNS'), (',', ','), ('scenic', 'JJ'), ('beauty', 'NN'), (',', ','), ('wildlife', 'NN'), ('sanctuaries', 'NNS'), (',', ','), ('architecture', 'NN'), ('sites', 'NNS'), (',', ','), ('etc.', 'FW'), (',', ','), ('contribute', 'JJ'), ('revenue', 'NN'), ('.', '.')]\n",
      "[('It', 'PRP'), ('place', 'NN'), ('Taj', 'NNP'), ('Mahal', 'NNP'), (',', ','), ('Fatehpur', 'NNP'), ('Sikri', 'NNP'), (',', ','), ('Golden', 'NNP'), ('Temple', 'NNP'), (',', ','), ('Qutab', 'NNP'), ('Minar', 'NNP'), (',', ','), ('Red', 'NNP'), ('Fort', 'NNP'), (',', ','), ('Ooty', 'NNP'), (',', ','), ('Nilgiris', 'NNP'), (',', ','), ('Kashmir', 'NNP'), (',', ','), ('Khajuraho', 'NNP'), (',', ','), ('Ajanta', 'NNP'), ('Ellora', 'NNP'), ('caves', 'NNS'), (',', ','), ('etc.', 'FW'), (',', ','), ('located', 'VBN'), ('.', '.')]\n",
      "[('The', 'DT'), ('country', 'NN'), ('many', 'JJ'), ('rivers', 'NNS'), (',', ','), ('mountains', 'NNS'), (',', ','), ('valleys', 'NNS'), (',', ','), ('lakes', 'NNS'), (',', ','), ('oceans', 'NNS'), ('.', '.')]\n",
      "[('The', 'DT'), ('national', 'JJ'), ('language', 'NN'), ('Hindi', 'NNP'), ('.', '.')]\n",
      "[('There', 'EX'), ('29', 'CD'), ('states', 'NNS'), ('UTs', 'NNP'), (',', ','), ('28', 'CD'), ('small', 'JJ'), ('villages', 'NNS'), ('.', '.')]\n",
      "[('Sugarcane', 'NNP'), (',', ','), ('cotton', 'NN'), (',', ','), ('jute', 'NN'), (',', ','), ('rice', 'NN'), (',', ','), ('wheat', 'NN'), (',', ','), ('cereals', 'NNS'), (',', ','), ('crops', 'NNS'), ('grown', 'JJ'), ('country', 'NN'), ('.', '.')]\n",
      "[('This', 'DT'), ('country', 'NN'), ('great', 'JJ'), ('leaders', 'NNS'), ('(', '('), ('Shivaji', 'NNP'), (',', ','), ('Gandhiji', 'NNP'), (',', ','), ('Nehru', 'NNP'), (',', ','), ('Ambedkar', 'NNP'), (',', ','), ('etc', 'FW'), ('.', '.'), (')', ')')]\n",
      "[('born', 'NN'), (',', ','), ('well', 'RB'), ('great', 'JJ'), ('scientists', 'NNS'), ('(', '('), ('Dr', 'NNP'), ('Jagadeeshchandra', 'NNP'), ('Bose', 'NNP'), (',', ','), ('Dr', 'NNP'), ('Homi', 'NNP'), ('Bhabha', 'NNP'), (',', ','), ('Dr', 'NNP'), ('C.', 'NNP'), ('V', 'NNP'), ('Raman', 'NNP'), (',', ','), ('Dr', 'NNP'), ('Naralikar', 'NNP'), (',', ','), ('etc', 'FW'), ('.', '.'), (')', ')')]\n",
      "[('reformers', 'NNS'), ('(', '('), ('Mother', 'NNP'), ('Teresa', 'NNP'), (',', ','), ('Pandurangashastri', 'NNP'), ('Alhavale', 'NNP'), (',', ','), ('T.', 'NNP'), ('N.', 'NNP'), ('Sheshan', 'NNP'), (')', ')'), ('.', '.')]\n",
      "[('There', 'EX'), ('sense', 'NN'), ('unity', 'NN'), ('peace', 'NN'), ('country', 'NN'), ('.', '.')]\n"
     ]
    }
   ],
   "source": [
    "\n",
    "##Finding POS tag with no stopwords\n",
    "for i in range(len(sentences)):\n",
    "    words = nltk.word_tokenize(sentences[i])\n",
    "    words = [word for word in words if word not in set(stopwords.words('english'))]\n",
    "    \n",
    "    pos_tag = nltk.pos_tag(words)\n",
    "    print(pos_tag)"
   ]
  },
  {
   "cell_type": "code",
   "execution_count": 70,
   "id": "89522dcf",
   "metadata": {},
   "outputs": [
    {
     "name": "stdout",
     "output_type": "stream",
     "text": [
      "[('am', 'VBP'), ('to', 'TO'), ('my', 'PRP$'), ('as', 'IN'), ('the', 'DT'), ('and', 'CC')]\n",
      "[('such', 'JJ'), ('as', 'IN'), ('and', 'CC'), ('it', 'PRP')]\n",
      "[('it', 'PRP'), ('is', 'VBZ'), ('a', 'DT'), ('by', 'IN'), ('the', 'DT'), ('of', 'IN'), ('in', 'IN'), ('the', 'DT'), ('the', 'DT'), ('in', 'IN'), ('the', 'DT'), ('and', 'CC'), ('the', 'DT'), ('in', 'IN'), ('the', 'DT')]\n",
      "[('is', 'VBZ'), ('our', 'PRP$'), ('while', 'IN'), ('the', 'DT'), ('and', 'CC'), ('our', 'PRP$'), ('and', 'CC')]\n",
      "[('of', 'IN'), ('at', 'IN'), ('the', 'DT'), ('at', 'IN'), ('the', 'DT'), ('there', 'EX'), ('is', 'VBZ'), ('an', 'DT'), ('and', 'CC')]\n",
      "[('are', 'VBP'), ('in', 'IN'), ('and', 'CC'), ('of', 'IN'), ('and', 'CC')]\n",
      "[('of', 'IN'), ('this', 'DT'), ('is', 'VBZ'), ('for', 'IN'), ('its', 'PRP$'), ('and', 'CC'), ('of', 'IN'), ('in', 'IN'), ('its', 'PRP$'), ('and', 'CC')]\n",
      "[('is', 'VBZ'), ('a', 'DT'), ('because', 'IN'), ('it', 'PRP'), ('from', 'IN'), ('all', 'DT'), ('over', 'IN'), ('the', 'DT')]\n",
      "[('to', 'TO'), ('its', 'PRP$')]\n",
      "[('is', 'VBZ'), ('a', 'DT'), ('where', 'WRB'), ('the', 'DT'), ('and', 'CC'), ('are', 'VBP')]\n",
      "[('has', 'VBZ'), ('and', 'CC')]\n",
      "[('is', 'VBZ')]\n",
      "[('are', 'VBP'), ('and', 'CC'), ('and', 'CC'), ('have', 'VBP')]\n",
      "[('and', 'CC'), ('other', 'JJ'), ('are', 'VBP'), ('in', 'IN'), ('this', 'DT')]\n",
      "[('is', 'VBZ'), ('a', 'DT'), ('where', 'WRB')]\n",
      "[('were', 'VBD'), ('as', 'IN'), ('as', 'IN')]\n",
      "[('and', 'CC'), ('and', 'CC')]\n",
      "[('is', 'VBZ'), ('a', 'DT'), ('of', 'IN'), ('and', 'CC'), ('in', 'IN'), ('this', 'DT')]\n"
     ]
    }
   ],
   "source": [
    "\n",
    "##Finding POS tag with  stopwords\n",
    "for i in range(len(sentences)):\n",
    "    words = nltk.word_tokenize(sentences[i])\n",
    "    words = [word for word in words if word in set(stopwords.words('english'))]\n",
    "    \n",
    "    pos_tag = nltk.pos_tag(words)\n",
    "    print(pos_tag)"
   ]
  },
  {
   "cell_type": "code",
   "execution_count": null,
   "id": "f12311f8",
   "metadata": {},
   "outputs": [],
   "source": []
  },
  {
   "cell_type": "code",
   "execution_count": 71,
   "id": "499c9a35",
   "metadata": {},
   "outputs": [
    {
     "data": {
      "text/plain": [
       "['Konark', 'Sun', 'Temple', 'is', 'a', 'very', 'beautful', 'monument']"
      ]
     },
     "execution_count": 71,
     "metadata": {},
     "output_type": "execute_result"
    }
   ],
   "source": [
    "\"Konark Sun Temple is a very beautful monument\".split()"
   ]
  },
  {
   "cell_type": "code",
   "execution_count": 72,
   "id": "da143695",
   "metadata": {},
   "outputs": [
    {
     "name": "stdout",
     "output_type": "stream",
     "text": [
      "[('Konark', 'NNP'), ('Sun', 'NNP'), ('Temple', 'NNP'), ('is', 'VBZ'), ('a', 'DT'), ('very', 'RB'), ('beautful', 'JJ'), ('monument', 'NN')]\n"
     ]
    }
   ],
   "source": [
    "print(nltk.pos_tag(\"Konark Sun Temple is a very beautful monument\".split()))"
   ]
  }
 ],
 "metadata": {
  "kernelspec": {
   "display_name": "Python 3",
   "language": "python",
   "name": "python3"
  },
  "language_info": {
   "codemirror_mode": {
    "name": "ipython",
    "version": 3
   },
   "file_extension": ".py",
   "mimetype": "text/x-python",
   "name": "python",
   "nbconvert_exporter": "python",
   "pygments_lexer": "ipython3",
   "version": "3.11.9"
  }
 },
 "nbformat": 4,
 "nbformat_minor": 5
}
