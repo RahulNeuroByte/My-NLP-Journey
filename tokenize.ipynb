{
 "cells": [
  {
   "cell_type": "code",
   "execution_count": null,
   "id": "45740d84",
   "metadata": {},
   "outputs": [],
   "source": []
  },
  {
   "cell_type": "code",
   "execution_count": 37,
   "id": "a8f6a5b6",
   "metadata": {},
   "outputs": [
    {
     "name": "stderr",
     "output_type": "stream",
     "text": [
      "[nltk_data] Downloading package punkt to\n",
      "[nltk_data]     C:\\Users\\rahul\\AppData\\Roaming\\nltk_data...\n",
      "[nltk_data]   Package punkt is already up-to-date!\n"
     ]
    },
    {
     "data": {
      "text/plain": [
       "True"
      ]
     },
     "execution_count": 37,
     "metadata": {},
     "output_type": "execute_result"
    }
   ],
   "source": [
    "import nltk\n",
    "nltk.download('punkt')\n"
   ]
  },
  {
   "cell_type": "markdown",
   "id": "9d555be5",
   "metadata": {},
   "source": [
    "## Tokenisation"
   ]
  },
  {
   "cell_type": "code",
   "execution_count": 38,
   "id": "20cac70d",
   "metadata": {},
   "outputs": [],
   "source": [
    "corpus= \"\"\"Hello Welcome, to Rahul's NLP Tutorials.\n",
    "Please do watch the entire course! to become expert in NLP.\n",
    "\"\"\""
   ]
  },
  {
   "cell_type": "code",
   "execution_count": 39,
   "id": "fa1c716e",
   "metadata": {},
   "outputs": [
    {
     "name": "stdout",
     "output_type": "stream",
     "text": [
      "Hello Welcome, to Rahul's NLP Tutorials.\n",
      "Please do watch the entire course! to become expert in NLP.\n",
      "\n"
     ]
    }
   ],
   "source": [
    "print(corpus)"
   ]
  },
  {
   "cell_type": "code",
   "execution_count": 40,
   "id": "132e42a4",
   "metadata": {},
   "outputs": [],
   "source": [
    "## sntence --> paragraphs\n",
    "\n",
    "from nltk.tokenize import sent_tokenize\n"
   ]
  },
  {
   "cell_type": "code",
   "execution_count": 41,
   "id": "051185dc",
   "metadata": {},
   "outputs": [],
   "source": [
    "documents = sent_tokenize(corpus)"
   ]
  },
  {
   "cell_type": "code",
   "execution_count": 42,
   "id": "7a43e4bd",
   "metadata": {},
   "outputs": [
    {
     "data": {
      "text/plain": [
       "list"
      ]
     },
     "execution_count": 42,
     "metadata": {},
     "output_type": "execute_result"
    }
   ],
   "source": [
    "type(documents)"
   ]
  },
  {
   "cell_type": "code",
   "execution_count": 43,
   "id": "74b42897",
   "metadata": {},
   "outputs": [
    {
     "name": "stdout",
     "output_type": "stream",
     "text": [
      "Hello Welcome, to Rahul's NLP Tutorials.\n",
      "Please do watch the entire course!\n",
      "to become expert in NLP.\n"
     ]
    }
   ],
   "source": [
    "for sentence in documents:\n",
    "    print(sentence)"
   ]
  },
  {
   "cell_type": "code",
   "execution_count": 44,
   "id": "7ce60614",
   "metadata": {},
   "outputs": [],
   "source": [
    "## Tokenization\n",
    "## Paragraph --> words\n",
    "## sentence --> words\n",
    "from nltk.tokenize import word_tokenize\n"
   ]
  },
  {
   "cell_type": "code",
   "execution_count": 45,
   "id": "d185b004",
   "metadata": {},
   "outputs": [
    {
     "data": {
      "text/plain": [
       "['Hello',\n",
       " 'Welcome',\n",
       " ',',\n",
       " 'to',\n",
       " 'Rahul',\n",
       " \"'s\",\n",
       " 'NLP',\n",
       " 'Tutorials',\n",
       " '.',\n",
       " 'Please',\n",
       " 'do',\n",
       " 'watch',\n",
       " 'the',\n",
       " 'entire',\n",
       " 'course',\n",
       " '!',\n",
       " 'to',\n",
       " 'become',\n",
       " 'expert',\n",
       " 'in',\n",
       " 'NLP',\n",
       " '.']"
      ]
     },
     "execution_count": 45,
     "metadata": {},
     "output_type": "execute_result"
    }
   ],
   "source": [
    "word_tokenize(corpus)"
   ]
  },
  {
   "cell_type": "code",
   "execution_count": 46,
   "id": "ca7af6c8",
   "metadata": {},
   "outputs": [
    {
     "name": "stdout",
     "output_type": "stream",
     "text": [
      "['Hello', 'Welcome', ',', 'to', 'Rahul', \"'s\", 'NLP', 'Tutorials', '.']\n",
      "['Please', 'do', 'watch', 'the', 'entire', 'course', '!']\n",
      "['to', 'become', 'expert', 'in', 'NLP', '.']\n"
     ]
    }
   ],
   "source": [
    "for sentence in documents:\n",
    "    print(word_tokenize(sentence))"
   ]
  },
  {
   "cell_type": "code",
   "execution_count": 47,
   "id": "8f08595b",
   "metadata": {},
   "outputs": [],
   "source": [
    "from nltk.tokenize import wordpunct_tokenize\n"
   ]
  },
  {
   "cell_type": "code",
   "execution_count": 48,
   "id": "2e9d84b9",
   "metadata": {},
   "outputs": [
    {
     "data": {
      "text/plain": [
       "['Hello',\n",
       " 'Welcome',\n",
       " ',',\n",
       " 'to',\n",
       " 'Rahul',\n",
       " \"'\",\n",
       " 's',\n",
       " 'NLP',\n",
       " 'Tutorials',\n",
       " '.',\n",
       " 'Please',\n",
       " 'do',\n",
       " 'watch',\n",
       " 'the',\n",
       " 'entire',\n",
       " 'course',\n",
       " '!',\n",
       " 'to',\n",
       " 'become',\n",
       " 'expert',\n",
       " 'in',\n",
       " 'NLP',\n",
       " '.']"
      ]
     },
     "execution_count": 48,
     "metadata": {},
     "output_type": "execute_result"
    }
   ],
   "source": [
    "wordpunct_tokenize(corpus)"
   ]
  },
  {
   "cell_type": "code",
   "execution_count": 49,
   "id": "305a8752",
   "metadata": {},
   "outputs": [],
   "source": [
    "## Tree bank word tokenizer\n",
    "from nltk.tokenize import TreebankWordDetokenizer\n"
   ]
  },
  {
   "cell_type": "code",
   "execution_count": 50,
   "id": "d5af1734",
   "metadata": {},
   "outputs": [],
   "source": [
    "tokenizer = TreebankWordDetokenizer()"
   ]
  },
  {
   "cell_type": "code",
   "execution_count": 51,
   "id": "b77a9598",
   "metadata": {},
   "outputs": [],
   "source": [
    "s = tokenizer.tokenize(corpus)"
   ]
  },
  {
   "cell_type": "code",
   "execution_count": 52,
   "id": "83d0ff38",
   "metadata": {},
   "outputs": [
    {
     "name": "stdout",
     "output_type": "stream",
     "text": [
      "H e l l o   W e l c o m e,   t o   R a h u l' s   N L P   T u t o r i a l s . \n",
      " P l e a s e   d o   w a t c h   t h e   e n t i r e   c o u r s e!   t o   b e c o m e   e x p e r t   i n   N L P.\n"
     ]
    }
   ],
   "source": [
    "print(s)"
   ]
  },
  {
   "cell_type": "code",
   "execution_count": 53,
   "id": "8bea67e7",
   "metadata": {},
   "outputs": [],
   "source": [
    "## with Treebanktokenizer the punctuation is not treated as a single word but it is combined with the previous word and in the last the punctuation is treated as a seperated word."
   ]
  },
  {
   "cell_type": "code",
   "execution_count": null,
   "id": "15a99ea6",
   "metadata": {},
   "outputs": [],
   "source": []
  },
  {
   "cell_type": "code",
   "execution_count": 86,
   "id": "c9bf3ac3",
   "metadata": {},
   "outputs": [],
   "source": [
    "para = \"\"\"Holkham Hall is an 18th-century country house in Norfolk, England, constructed in the Neo-Palladian style \n",
    "for Thomas Coke, 1st Earl of Leicester. The hall was designed by the architect William Kent, with contributions from \n",
    "Richard Boyle, 3rd Earl of Burlington, the Norfolk architect and surveyor Matthew Brettingham and Thomas Coke himself. \n",
    "Holkham is one of England's finest examples of the Palladian revival style of architecture. The exterior consists of a \n",
    "central block, of two storeys and four flanking wings. The interior of the hall is opulent, but by the standards of the \n",
    "day, simply decorated and furnished. The Holkham estate was built up by Sir Edward Coke, a lawyer in the reigns of Elizabeth\n",
    "I and James I and the founder of his family's fortune. It remains the ancestral home of the Coke family, who became Earls of \n",
    "Leicester.\n",
    "\"\"\""
   ]
  },
  {
   "cell_type": "code",
   "execution_count": 87,
   "id": "b373d90d",
   "metadata": {},
   "outputs": [],
   "source": [
    "from nltk.tokenize import sent_tokenize\n",
    "sen = sent_tokenize(para) "
   ]
  },
  {
   "cell_type": "code",
   "execution_count": 88,
   "id": "c474ae4a",
   "metadata": {},
   "outputs": [
    {
     "name": "stdout",
     "output_type": "stream",
     "text": [
      "['Holkham Hall is an 18th-century country house in Norfolk, England, constructed in the Neo-Palladian style \\nfor Thomas Coke, 1st Earl of Leicester.', 'The hall was designed by the architect William Kent, with contributions from \\nRichard Boyle, 3rd Earl of Burlington, the Norfolk architect and surveyor Matthew Brettingham and Thomas Coke himself.', \"Holkham is one of England's finest examples of the Palladian revival style of architecture.\", 'The exterior consists of a \\ncentral block, of two storeys and four flanking wings.', 'The interior of the hall is opulent, but by the standards of the \\nday, simply decorated and furnished.', \"The Holkham estate was built up by Sir Edward Coke, a lawyer in the reigns of Elizabeth\\nI and James I and the founder of his family's fortune.\", 'It remains the ancestral home of the Coke family, who became Earls of \\nLeicester.']\n"
     ]
    }
   ],
   "source": [
    "print(sen)"
   ]
  },
  {
   "cell_type": "code",
   "execution_count": 89,
   "id": "b20274b4",
   "metadata": {},
   "outputs": [
    {
     "name": "stdout",
     "output_type": "stream",
     "text": [
      "Holkham Hall is an 18th-century country house in Norfolk, England, constructed in the Neo-Palladian style \n",
      "for Thomas Coke, 1st Earl of Leicester.\n",
      "The hall was designed by the architect William Kent, with contributions from \n",
      "Richard Boyle, 3rd Earl of Burlington, the Norfolk architect and surveyor Matthew Brettingham and Thomas Coke himself.\n",
      "Holkham is one of England's finest examples of the Palladian revival style of architecture.\n",
      "The exterior consists of a \n",
      "central block, of two storeys and four flanking wings.\n",
      "The interior of the hall is opulent, but by the standards of the \n",
      "day, simply decorated and furnished.\n",
      "The Holkham estate was built up by Sir Edward Coke, a lawyer in the reigns of Elizabeth\n",
      "I and James I and the founder of his family's fortune.\n",
      "It remains the ancestral home of the Coke family, who became Earls of \n",
      "Leicester.\n"
     ]
    }
   ],
   "source": [
    "for sentence in sen:\n",
    "    print(sentence)"
   ]
  },
  {
   "cell_type": "code",
   "execution_count": 75,
   "id": "fd1e4dc3",
   "metadata": {},
   "outputs": [],
   "source": [
    "# word tokenization\n",
    "\n",
    "from nltk.tokenize import word_tokenize\n",
    "words = word_tokenize(para)"
   ]
  },
  {
   "cell_type": "code",
   "execution_count": 76,
   "id": "03ea51da",
   "metadata": {},
   "outputs": [
    {
     "name": "stdout",
     "output_type": "stream",
     "text": [
      "['Holkham', 'Hall', 'is', 'an', '18th-century', 'country', 'house', 'in', 'Norfolk', ',', 'England', ',', 'constructed', 'in', 'the', 'Neo-Palladian', 'style', 'for', 'Thomas', 'Coke', ',', '1st', 'Earl', 'of', 'Leicester', '.', 'The', 'hall', 'was', 'designed', 'by', 'the', 'architect', 'William', 'Kent', ',', 'with', 'contributions', 'from', 'Richard', 'Boyle', ',', '3rd', 'Earl', 'of', 'Burlington', ',', 'the', 'Norfolk', 'architect', 'and', 'surveyor', 'Matthew', 'Brettingham', 'and', 'Thomas', 'Coke', 'himself', '.', 'Holkham', 'is', 'one', 'of', 'England', \"'s\", 'finest', 'examples', 'of', 'the', 'Palladian', 'revival', 'style', 'of', 'architecture', '.', 'The', 'exterior', 'consists', 'of', 'a', 'central', 'block', ',', 'of', 'two', 'storeys', 'and', 'four', 'flanking', 'wings', '.', 'The', 'interior', 'of', 'the', 'hall', 'is', 'opulent', ',', 'but', 'by', 'the', 'standards', 'of', 'the', 'day', ',', 'simply', 'decorated', 'and', 'furnished', '.', 'The', 'Holkham', 'estate', 'was', 'built', 'up', 'by', 'Sir', 'Edward', 'Coke', ',', 'a', 'lawyer', 'in', 'the', 'reigns', 'of', 'Elizabeth', 'I', 'and', 'James', 'I', 'and', 'the', 'founder', 'of', 'his', 'family', \"'s\", 'fortune', '.', 'It', 'remains', 'the', 'ancestral', 'home', 'of', 'the', 'Coke', 'family', ',', 'who', 'became', 'Earls', 'of', 'Leicester', '.']\n"
     ]
    }
   ],
   "source": [
    "print(words)"
   ]
  },
  {
   "cell_type": "code",
   "execution_count": 90,
   "id": "114994f4",
   "metadata": {},
   "outputs": [
    {
     "name": "stdout",
     "output_type": "stream",
     "text": [
      "Holkham\n",
      "Hall\n",
      "is\n",
      "an\n",
      "18th-century\n",
      "country\n",
      "house\n",
      "in\n",
      "Norfolk\n",
      ",\n",
      "England\n",
      ",\n",
      "constructed\n",
      "in\n",
      "the\n",
      "Neo-Palladian\n",
      "style\n",
      "for\n",
      "Thomas\n",
      "Coke\n",
      ",\n",
      "1st\n",
      "Earl\n",
      "of\n",
      "Leicester\n",
      ".\n",
      "The\n",
      "hall\n",
      "was\n",
      "designed\n",
      "by\n",
      "the\n",
      "architect\n",
      "William\n",
      "Kent\n",
      ",\n",
      "with\n",
      "contributions\n",
      "from\n",
      "Richard\n",
      "Boyle\n",
      ",\n",
      "3rd\n",
      "Earl\n",
      "of\n",
      "Burlington\n",
      ",\n",
      "the\n",
      "Norfolk\n",
      "architect\n",
      "and\n",
      "surveyor\n",
      "Matthew\n",
      "Brettingham\n",
      "and\n",
      "Thomas\n",
      "Coke\n",
      "himself\n",
      ".\n",
      "Holkham\n",
      "is\n",
      "one\n",
      "of\n",
      "England\n",
      "'s\n",
      "finest\n",
      "examples\n",
      "of\n",
      "the\n",
      "Palladian\n",
      "revival\n",
      "style\n",
      "of\n",
      "architecture\n",
      ".\n",
      "The\n",
      "exterior\n",
      "consists\n",
      "of\n",
      "a\n",
      "central\n",
      "block\n",
      ",\n",
      "of\n",
      "two\n",
      "storeys\n",
      "and\n",
      "four\n",
      "flanking\n",
      "wings\n",
      ".\n",
      "The\n",
      "interior\n",
      "of\n",
      "the\n",
      "hall\n",
      "is\n",
      "opulent\n",
      ",\n",
      "but\n",
      "by\n",
      "the\n",
      "standards\n",
      "of\n",
      "the\n",
      "day\n",
      ",\n",
      "simply\n",
      "decorated\n",
      "and\n",
      "furnished\n",
      ".\n",
      "The\n",
      "Holkham\n",
      "estate\n",
      "was\n",
      "built\n",
      "up\n",
      "by\n",
      "Sir\n",
      "Edward\n",
      "Coke\n",
      ",\n",
      "a\n",
      "lawyer\n",
      "in\n",
      "the\n",
      "reigns\n",
      "of\n",
      "Elizabeth\n",
      "I\n",
      "and\n",
      "James\n",
      "I\n",
      "and\n",
      "the\n",
      "founder\n",
      "of\n",
      "his\n",
      "family\n",
      "'s\n",
      "fortune\n",
      ".\n",
      "It\n",
      "remains\n",
      "the\n",
      "ancestral\n",
      "home\n",
      "of\n",
      "the\n",
      "Coke\n",
      "family\n",
      ",\n",
      "who\n",
      "became\n",
      "Earls\n",
      "of\n",
      "Leicester\n",
      ".\n"
     ]
    }
   ],
   "source": [
    "for word in words:\n",
    "    print(word)\n",
    "\n"
   ]
  }
 ],
 "metadata": {
  "kernelspec": {
   "display_name": "Python 3",
   "language": "python",
   "name": "python3"
  },
  "language_info": {
   "codemirror_mode": {
    "name": "ipython",
    "version": 3
   },
   "file_extension": ".py",
   "mimetype": "text/x-python",
   "name": "python",
   "nbconvert_exporter": "python",
   "pygments_lexer": "ipython3",
   "version": "3.11.9"
  }
 },
 "nbformat": 4,
 "nbformat_minor": 5
}
