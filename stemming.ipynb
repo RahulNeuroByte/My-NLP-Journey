{
 "cells": [
  {
   "cell_type": "markdown",
   "id": "f5e888e7",
   "metadata": {},
   "source": [
    "## stemming and its types"
   ]
  },
  {
   "cell_type": "code",
   "execution_count": null,
   "id": "97ab9f70",
   "metadata": {},
   "outputs": [],
   "source": []
  },
  {
   "cell_type": "code",
   "execution_count": 1,
   "id": "e5f7952c",
   "metadata": {},
   "outputs": [],
   "source": [
    "## PorterStemmer"
   ]
  },
  {
   "cell_type": "code",
   "execution_count": 20,
   "id": "a37110c5",
   "metadata": {},
   "outputs": [],
   "source": [
    "words = ['eat', 'eating', 'eats', 'history', 'happily', 'eaten', 'programming', 'programs', 'functional', 'functions']"
   ]
  },
  {
   "cell_type": "code",
   "execution_count": 21,
   "id": "10ae29d4",
   "metadata": {},
   "outputs": [],
   "source": [
    "from nltk.stem import PorterStemmer\n",
    "stemming = PorterStemmer()"
   ]
  },
  {
   "cell_type": "code",
   "execution_count": 22,
   "id": "0efcc721",
   "metadata": {},
   "outputs": [
    {
     "name": "stdout",
     "output_type": "stream",
     "text": [
      "eat--->eat\n",
      "eating--->eat\n",
      "eats--->eat\n",
      "history--->histori\n",
      "happily--->happili\n",
      "eaten--->eaten\n",
      "programming--->program\n",
      "programs--->program\n",
      "functional--->function\n",
      "functions--->function\n"
     ]
    }
   ],
   "source": [
    "for word in words:\n",
    "    print(word+\"--->\"+stemming.stem(word))\n",
    "# this is  +---->+ just for look\n",
    "# we can just use print(stemming.stem(word))"
   ]
  },
  {
   "cell_type": "code",
   "execution_count": 25,
   "id": "ae068871",
   "metadata": {},
   "outputs": [],
   "source": [
    "## this is not so good like \n",
    "# cant convert happily ---> happy\n",
    "# this is the disadvantage \n",
    "# ----> can fix by lemmatization\n",
    "# stemming good for classification problem like spam/ham, yes/no"
   ]
  },
  {
   "cell_type": "code",
   "execution_count": 26,
   "id": "b2ed8891",
   "metadata": {},
   "outputs": [
    {
     "data": {
      "text/plain": [
       "'congratul'"
      ]
     },
     "execution_count": 26,
     "metadata": {},
     "output_type": "execute_result"
    }
   ],
   "source": [
    "stemming.stem('congratulations')"
   ]
  },
  {
   "cell_type": "code",
   "execution_count": null,
   "id": "58e22231",
   "metadata": {},
   "outputs": [],
   "source": []
  },
  {
   "cell_type": "markdown",
   "id": "d9a3a708",
   "metadata": {},
   "source": [
    "## RegexpStemmer class\n",
    "\n",
    "with this we can easily implement Regular Expression"
   ]
  },
  {
   "cell_type": "code",
   "execution_count": 27,
   "id": "80a66bbc",
   "metadata": {},
   "outputs": [],
   "source": [
    "from nltk.stem import RegexpStemmer\n"
   ]
  },
  {
   "cell_type": "code",
   "execution_count": 49,
   "id": "4b38bdca",
   "metadata": {},
   "outputs": [],
   "source": [
    "reg_stemmer = RegexpStemmer('ing$|$s|e$|able$|ly$|en$', min=4)"
   ]
  },
  {
   "cell_type": "markdown",
   "id": "dccfefd1",
   "metadata": {},
   "source": [
    "agr ##$ing then last me ing remove kr dega\n",
    "\n",
    "agr ##ing likhte then ye starting me hoga to remove kr dega\n",
    "\n",
    "like ## ingeat hai to ----> eat ho jayga\n",
    "\n",
    "and if ##$ing ----> it will not work"
   ]
  },
  {
   "cell_type": "code",
   "execution_count": 52,
   "id": "cad9d03d",
   "metadata": {},
   "outputs": [],
   "source": [
    "Words = ['running', 'eats', 'goes', 'swims', 'run', 'happily', 'congratulations', 'wisely', 'eaten', 'swimming']"
   ]
  },
  {
   "cell_type": "code",
   "execution_count": 53,
   "id": "e1a472c8",
   "metadata": {},
   "outputs": [
    {
     "name": "stdout",
     "output_type": "stream",
     "text": [
      "running--->runn\n",
      "eats--->eats\n",
      "goes--->goes\n",
      "swims--->swims\n",
      "run--->run\n",
      "happily--->happi\n",
      "congratulations--->congratulations\n",
      "wisely--->wise\n",
      "eaten--->eat\n",
      "swimming--->swimm\n"
     ]
    }
   ],
   "source": [
    "for word in Words:\n",
    "    print(word+\"--->\"+reg_stemmer.stem(word))"
   ]
  },
  {
   "cell_type": "code",
   "execution_count": null,
   "id": "825f0652",
   "metadata": {},
   "outputs": [],
   "source": []
  },
  {
   "cell_type": "markdown",
   "id": "2d906796",
   "metadata": {},
   "source": [
    "## Snowball Stemmer\n",
    "works better than PorterStemmer (word accuracy)"
   ]
  },
  {
   "cell_type": "code",
   "execution_count": 55,
   "id": "e17702a6",
   "metadata": {},
   "outputs": [],
   "source": [
    "from nltk.stem import SnowballStemmer"
   ]
  },
  {
   "cell_type": "code",
   "execution_count": 57,
   "id": "571f650e",
   "metadata": {},
   "outputs": [],
   "source": [
    "snowballstemmer = SnowballStemmer('english')"
   ]
  },
  {
   "cell_type": "code",
   "execution_count": 60,
   "id": "bc6bbfea",
   "metadata": {},
   "outputs": [
    {
     "name": "stdout",
     "output_type": "stream",
     "text": [
      "running--->run\n",
      "eats--->eat\n",
      "goes--->goe\n",
      "swims--->swim\n",
      "run--->run\n",
      "happily--->happili\n",
      "congratulations--->congratul\n",
      "wisely--->wise\n",
      "eaten--->eaten\n",
      "swimming--->swim\n"
     ]
    }
   ],
   "source": [
    "for word in Words:\n",
    "    print(word+\"--->\"+snowballstemmer.stem(word))"
   ]
  },
  {
   "cell_type": "code",
   "execution_count": 61,
   "id": "52148937",
   "metadata": {},
   "outputs": [
    {
     "name": "stdout",
     "output_type": "stream",
     "text": [
      "eat--->eat\n",
      "eating--->eat\n",
      "eats--->eat\n",
      "history--->histori\n",
      "happily--->happili\n",
      "eaten--->eaten\n",
      "programming--->program\n",
      "programs--->program\n",
      "functional--->function\n",
      "functions--->function\n"
     ]
    }
   ],
   "source": [
    "for word in words:\n",
    "    print(word+\"--->\"+snowballstemmer.stem(word))"
   ]
  },
  {
   "cell_type": "code",
   "execution_count": null,
   "id": "2ac99fc7",
   "metadata": {},
   "outputs": [
    {
     "data": {
      "text/plain": [
       "('fairi', 'sportingli')"
      ]
     },
     "execution_count": 64,
     "metadata": {},
     "output_type": "execute_result"
    }
   ],
   "source": [
    "# comparing PorterStemmer and SnowballStemmer with particular word\n",
    "\n",
    "#PorterStemmer\n",
    "stemming.stem(\"fairy\"), stemming.stem(\"sportingly\")\n"
   ]
  },
  {
   "cell_type": "code",
   "execution_count": 67,
   "id": "bc2e6ee1",
   "metadata": {},
   "outputs": [
    {
     "data": {
      "text/plain": [
       "('fair', 'sport')"
      ]
     },
     "execution_count": 67,
     "metadata": {},
     "output_type": "execute_result"
    }
   ],
   "source": [
    "#SnowbalStemmer\n",
    "snowballstemmer.stem(\"fairly\"), snowballstemmer.stem(\"sportingly\")"
   ]
  },
  {
   "cell_type": "code",
   "execution_count": null,
   "id": "08511948",
   "metadata": {},
   "outputs": [],
   "source": []
  },
  {
   "cell_type": "markdown",
   "id": "82fa7eca",
   "metadata": {},
   "source": [
    "## Lemmatization will solve all these problems\n",
    "for chatbot we cant use stemming"
   ]
  },
  {
   "cell_type": "code",
   "execution_count": null,
   "id": "247fb174",
   "metadata": {},
   "outputs": [],
   "source": []
  },
  {
   "cell_type": "code",
   "execution_count": null,
   "id": "49061851",
   "metadata": {},
   "outputs": [],
   "source": []
  },
  {
   "cell_type": "code",
   "execution_count": null,
   "id": "4fecd859",
   "metadata": {},
   "outputs": [],
   "source": []
  },
  {
   "cell_type": "code",
   "execution_count": null,
   "id": "3221618e",
   "metadata": {},
   "outputs": [],
   "source": []
  },
  {
   "cell_type": "code",
   "execution_count": null,
   "id": "80699092",
   "metadata": {},
   "outputs": [],
   "source": []
  },
  {
   "cell_type": "code",
   "execution_count": null,
   "id": "05125cab",
   "metadata": {},
   "outputs": [],
   "source": []
  },
  {
   "cell_type": "code",
   "execution_count": null,
   "id": "9266cce6",
   "metadata": {},
   "outputs": [],
   "source": []
  },
  {
   "cell_type": "code",
   "execution_count": null,
   "id": "ebfcc526",
   "metadata": {},
   "outputs": [],
   "source": []
  },
  {
   "cell_type": "code",
   "execution_count": null,
   "id": "8c3842ad",
   "metadata": {},
   "outputs": [],
   "source": []
  },
  {
   "cell_type": "code",
   "execution_count": null,
   "id": "fc0fb7ee",
   "metadata": {},
   "outputs": [],
   "source": []
  },
  {
   "cell_type": "code",
   "execution_count": null,
   "id": "65aaf330",
   "metadata": {},
   "outputs": [],
   "source": []
  },
  {
   "cell_type": "code",
   "execution_count": null,
   "id": "f60325a4",
   "metadata": {},
   "outputs": [],
   "source": []
  },
  {
   "cell_type": "code",
   "execution_count": null,
   "id": "ba0bb225",
   "metadata": {},
   "outputs": [],
   "source": []
  },
  {
   "cell_type": "code",
   "execution_count": null,
   "id": "0c7bfe59",
   "metadata": {},
   "outputs": [],
   "source": []
  },
  {
   "cell_type": "code",
   "execution_count": null,
   "id": "2794a2f0",
   "metadata": {},
   "outputs": [],
   "source": []
  },
  {
   "cell_type": "code",
   "execution_count": null,
   "id": "9a96fc8f",
   "metadata": {},
   "outputs": [],
   "source": []
  },
  {
   "cell_type": "code",
   "execution_count": null,
   "id": "8c515a86",
   "metadata": {},
   "outputs": [],
   "source": []
  }
 ],
 "metadata": {
  "kernelspec": {
   "display_name": "Python 3",
   "language": "python",
   "name": "python3"
  },
  "language_info": {
   "codemirror_mode": {
    "name": "ipython",
    "version": 3
   },
   "file_extension": ".py",
   "mimetype": "text/x-python",
   "name": "python",
   "nbconvert_exporter": "python",
   "pygments_lexer": "ipython3",
   "version": "3.11.9"
  }
 },
 "nbformat": 4,
 "nbformat_minor": 5
}
